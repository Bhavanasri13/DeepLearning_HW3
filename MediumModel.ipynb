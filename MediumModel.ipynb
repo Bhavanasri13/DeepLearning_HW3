{
 "cells": [
  {
   "cell_type": "code",
   "execution_count": 68,
   "id": "fead65c8-5843-4165-9ad5-3b2d48657294",
   "metadata": {
    "tags": []
   },
   "outputs": [
    {
     "data": {
      "text/plain": [
       "dict_keys(['title', 'paragraphs'])"
      ]
     },
     "execution_count": 68,
     "metadata": {},
     "output_type": "execute_result"
    }
   ],
   "source": [
    "import requests\n",
    "import json\n",
    "import torch\n",
    "import os\n",
    "from tqdm import tqdm\n",
    "\n",
    "with open('spoken_train-v1.1.json', 'rb') as f:\n",
    "  squad = json.load(f)\n",
    "squad['data'][0].keys()"
   ]
  },
  {
   "cell_type": "code",
   "execution_count": 69,
   "id": "00f70357-e044-451b-bc56-347716c9fd20",
   "metadata": {
    "tags": []
   },
   "outputs": [
    {
     "name": "stdout",
     "output_type": "stream",
     "text": [
      "cuda\n"
     ]
    }
   ],
   "source": [
    "\n",
    "device = torch.device('cuda') if torch.cuda.is_available() else torch.device('cpu')\n",
    "print(f'{device}')"
   ]
  },
  {
   "cell_type": "code",
   "execution_count": 70,
   "id": "8d3e9100-9113-42c7-95e2-de86ea87c6b8",
   "metadata": {
    "tags": []
   },
   "outputs": [],
   "source": [
    "def read_data(path):  \n",
    "  # load the json file\n",
    "  with open(path, 'rb') as f:\n",
    "    squad = json.load(f)\n",
    "  contexts = []\n",
    "  questions = []\n",
    "  answers = []\n",
    "  for group in squad['data']:\n",
    "    for passage in group['paragraphs']:\n",
    "      context = passage['context']\n",
    "      for qa in passage['qas']:\n",
    "        question = qa['question']\n",
    "        for answer in qa['answers']:\n",
    "          contexts.append(context)\n",
    "          questions.append(question)\n",
    "          answers.append(answer)\n",
    "  return contexts, questions, answers\n",
    "train_contexts, train_questions, train_answers = read_data('spoken_train-v1.1.json')\n",
    "valid_contexts, valid_questions, valid_answers = read_data('spoken_test-v1.1.json')\n",
    "     \n"
   ]
  },
  {
   "cell_type": "code",
   "execution_count": 71,
   "id": "abeba359-9954-4c9b-9ba0-168ff861f7e5",
   "metadata": {
    "tags": []
   },
   "outputs": [],
   "source": [
    "def add_end_idx(answers, contexts):\n",
    "  for answer, context in zip(answers, contexts):\n",
    "    gold_text = answer['text']\n",
    "    start_idx = answer['answer_start']\n",
    "    end_idx = start_idx + len(gold_text)\n",
    "\n",
    "    if context[start_idx:end_idx] == gold_text:\n",
    "      answer['answer_end'] = end_idx\n",
    "    elif context[start_idx-1:end_idx-1] == gold_text:\n",
    "      answer['answer_start'] = start_idx - 1\n",
    "      answer['answer_end'] = end_idx - 1    \n",
    "    elif context[start_idx-2:end_idx-2] == gold_text:\n",
    "      answer['answer_start'] = start_idx - 2\n",
    "      answer['answer_end'] = end_idx - 2   \n",
    "add_end_idx(train_answers, train_contexts)\n",
    "add_end_idx(valid_answers, valid_contexts)"
   ]
  },
  {
   "cell_type": "code",
   "execution_count": 72,
   "id": "a8650dab-dd72-42a4-ab51-13d2322669ed",
   "metadata": {
    "tags": []
   },
   "outputs": [],
   "source": [
    "from transformers import BertTokenizerFast\n",
    "\n",
    "tokenizer = BertTokenizerFast.from_pretrained('bert-base-uncased')\n",
    "\n",
    "doc_stride = 128 \n",
    "\n",
    "train_encodings = tokenizer(\n",
    "    train_contexts,\n",
    "    train_questions,\n",
    "    truncation=True,\n",
    "    padding=True,\n",
    "    max_length=512,\n",
    "    stride=doc_stride\n",
    ")\n",
    "\n",
    "valid_encodings = tokenizer(\n",
    "    valid_contexts,\n",
    "    valid_questions,\n",
    "    truncation=True,\n",
    "    padding=True,\n",
    "    max_length=512,\n",
    "    stride=doc_stride\n",
    ")"
   ]
  },
  {
   "cell_type": "code",
   "execution_count": 73,
   "id": "df8b5451-f286-4b76-af29-e4b01cf7a341",
   "metadata": {
    "tags": []
   },
   "outputs": [
    {
     "data": {
      "text/plain": [
       "dict_keys(['input_ids', 'token_type_ids', 'attention_mask'])"
      ]
     },
     "execution_count": 73,
     "metadata": {},
     "output_type": "execute_result"
    }
   ],
   "source": [
    "train_encodings.keys()"
   ]
  },
  {
   "cell_type": "code",
   "execution_count": 74,
   "id": "2f92f122-c80f-49e8-975b-32a9968fb6e0",
   "metadata": {
    "tags": []
   },
   "outputs": [],
   "source": [
    "def add_token_positions(encodings, answers):\n",
    "    start_positions = []\n",
    "    end_positions = []\n",
    "    for i, answer in enumerate(answers):\n",
    "        start_pos = max(0, answer['answer_start'])\n",
    "        end_pos = max(0, answer['answer_end'] - 1)\n",
    "        start_positions.append(encodings.char_to_token(i, start_pos))\n",
    "        end_positions.append(encodings.char_to_token(i, end_pos))\n",
    "\n",
    "        if start_positions[-1] is None:\n",
    "            start_positions[-1] = tokenizer.model_max_length\n",
    "        if end_positions[-1] is None:\n",
    "            end_positions[-1] = tokenizer.model_max_length\n",
    "\n",
    "    encodings.update({'start_positions': start_positions, 'end_positions': end_positions})\n",
    "add_token_positions(train_encodings, train_answers)\n",
    "add_token_positions(valid_encodings, valid_answers)\n"
   ]
  },
  {
   "cell_type": "code",
   "execution_count": 75,
   "id": "9e536eb2-809b-4966-a0a9-e02737a061dd",
   "metadata": {
    "tags": []
   },
   "outputs": [
    {
     "data": {
      "text/plain": [
       "[36, 11, 55, 107, 25, 21, 43, 67, 28, 22]"
      ]
     },
     "execution_count": 75,
     "metadata": {},
     "output_type": "execute_result"
    }
   ],
   "source": [
    "train_encodings['start_positions'][:10]"
   ]
  },
  {
   "cell_type": "code",
   "execution_count": 76,
   "id": "633cdbd3-7fe2-4dea-b085-885a867a9f7c",
   "metadata": {
    "tags": []
   },
   "outputs": [],
   "source": [
    "class SQuAD_Dataset(torch.utils.data.Dataset):\n",
    "  def __init__(self, encodings):\n",
    "    self.encodings = encodings\n",
    "  def __getitem__(self, idx):\n",
    "    return {key: torch.tensor(val[idx]) for key, val in self.encodings.items()}\n",
    "  def __len__(self):\n",
    "    return len(self.encodings.input_ids)\n",
    "     "
   ]
  },
  {
   "cell_type": "code",
   "execution_count": 77,
   "id": "5de72dec-a79f-460b-8fbe-03a9bcd444b0",
   "metadata": {
    "tags": []
   },
   "outputs": [],
   "source": [
    "\n",
    "train_dataset = SQuAD_Dataset(train_encodings)\n",
    "valid_dataset = SQuAD_Dataset(valid_encodings)\n",
    "     "
   ]
  },
  {
   "cell_type": "code",
   "execution_count": 78,
   "id": "b5e80800-ae76-4cad-957f-d50039bbc2b5",
   "metadata": {
    "tags": []
   },
   "outputs": [],
   "source": [
    "from torch.utils.data import DataLoader\n",
    "\n",
    "\n",
    "train_loader = DataLoader(train_dataset, batch_size=16, shuffle=True)\n",
    "valid_loader = DataLoader(valid_dataset, batch_size=16)"
   ]
  },
  {
   "cell_type": "code",
   "execution_count": 79,
   "id": "a3090a47-7cc8-48c2-870f-897bba6575d1",
   "metadata": {
    "tags": []
   },
   "outputs": [
    {
     "name": "stderr",
     "output_type": "stream",
     "text": [
      "Some weights of BertForQuestionAnswering were not initialized from the model checkpoint at bert-base-uncased and are newly initialized: ['qa_outputs.bias', 'qa_outputs.weight']\n",
      "You should probably TRAIN this model on a down-stream task to be able to use it for predictions and inference.\n"
     ]
    }
   ],
   "source": [
    "from transformers import BertForQuestionAnswering\n",
    "\n",
    "model = BertForQuestionAnswering.from_pretrained(\"bert-base-uncased\")"
   ]
  },
  {
   "cell_type": "code",
   "execution_count": 80,
   "id": "4a8cccce-a960-4e4b-ada1-92fb77766bbd",
   "metadata": {
    "tags": []
   },
   "outputs": [
    {
     "name": "stderr",
     "output_type": "stream",
     "text": [
      "Epoch 1:   1%|          | 24/2320 [00:08<14:09,  2.70it/s, loss=3.92] \n"
     ]
    },
    {
     "ename": "KeyboardInterrupt",
     "evalue": "",
     "output_type": "error",
     "traceback": [
      "\u001b[0;31m---------------------------------------------------------------------------\u001b[0m",
      "\u001b[0;31mKeyboardInterrupt\u001b[0m                         Traceback (most recent call last)",
      "Cell \u001b[0;32mIn[80], line 36\u001b[0m\n\u001b[1;32m     34\u001b[0m loss \u001b[38;5;241m=\u001b[39m outputs[\u001b[38;5;241m0\u001b[39m]\n\u001b[1;32m     35\u001b[0m loss\u001b[38;5;241m.\u001b[39mbackward()\n\u001b[0;32m---> 36\u001b[0m optim\u001b[38;5;241m.\u001b[39mstep()\n\u001b[1;32m     38\u001b[0m \u001b[38;5;66;03m# Accumulate loss\u001b[39;00m\n\u001b[1;32m     39\u001b[0m total_loss \u001b[38;5;241m+\u001b[39m\u001b[38;5;241m=\u001b[39m loss\u001b[38;5;241m.\u001b[39mitem()\n",
      "File \u001b[0;32m~/.local/lib/python3.11/site-packages/torch/optim/optimizer.py:484\u001b[0m, in \u001b[0;36mOptimizer.profile_hook_step.<locals>.wrapper\u001b[0;34m(*args, **kwargs)\u001b[0m\n\u001b[1;32m    479\u001b[0m         \u001b[38;5;28;01melse\u001b[39;00m:\n\u001b[1;32m    480\u001b[0m             \u001b[38;5;28;01mraise\u001b[39;00m \u001b[38;5;167;01mRuntimeError\u001b[39;00m(\n\u001b[1;32m    481\u001b[0m                 \u001b[38;5;124mf\u001b[39m\u001b[38;5;124m\"\u001b[39m\u001b[38;5;132;01m{\u001b[39;00mfunc\u001b[38;5;132;01m}\u001b[39;00m\u001b[38;5;124m must return None or a tuple of (new_args, new_kwargs), but got \u001b[39m\u001b[38;5;132;01m{\u001b[39;00mresult\u001b[38;5;132;01m}\u001b[39;00m\u001b[38;5;124m.\u001b[39m\u001b[38;5;124m\"\u001b[39m\n\u001b[1;32m    482\u001b[0m             )\n\u001b[0;32m--> 484\u001b[0m out \u001b[38;5;241m=\u001b[39m func(\u001b[38;5;241m*\u001b[39margs, \u001b[38;5;241m*\u001b[39m\u001b[38;5;241m*\u001b[39mkwargs)\n\u001b[1;32m    485\u001b[0m \u001b[38;5;28mself\u001b[39m\u001b[38;5;241m.\u001b[39m_optimizer_step_code()\n\u001b[1;32m    487\u001b[0m \u001b[38;5;66;03m# call optimizer step post hooks\u001b[39;00m\n",
      "File \u001b[0;32m~/.local/lib/python3.11/site-packages/torch/utils/_contextlib.py:116\u001b[0m, in \u001b[0;36mcontext_decorator.<locals>.decorate_context\u001b[0;34m(*args, **kwargs)\u001b[0m\n\u001b[1;32m    113\u001b[0m \u001b[38;5;129m@functools\u001b[39m\u001b[38;5;241m.\u001b[39mwraps(func)\n\u001b[1;32m    114\u001b[0m \u001b[38;5;28;01mdef\u001b[39;00m \u001b[38;5;21mdecorate_context\u001b[39m(\u001b[38;5;241m*\u001b[39margs, \u001b[38;5;241m*\u001b[39m\u001b[38;5;241m*\u001b[39mkwargs):\n\u001b[1;32m    115\u001b[0m     \u001b[38;5;28;01mwith\u001b[39;00m ctx_factory():\n\u001b[0;32m--> 116\u001b[0m         \u001b[38;5;28;01mreturn\u001b[39;00m func(\u001b[38;5;241m*\u001b[39margs, \u001b[38;5;241m*\u001b[39m\u001b[38;5;241m*\u001b[39mkwargs)\n",
      "File \u001b[0;32m~/.local/lib/python3.11/site-packages/transformers/optimization.py:647\u001b[0m, in \u001b[0;36mAdamW.step\u001b[0;34m(self, closure)\u001b[0m\n\u001b[1;32m    644\u001b[0m \u001b[38;5;66;03m# Decay the first and second moment running average coefficient\u001b[39;00m\n\u001b[1;32m    645\u001b[0m \u001b[38;5;66;03m# In-place operations to update the averages at the same time\u001b[39;00m\n\u001b[1;32m    646\u001b[0m exp_avg\u001b[38;5;241m.\u001b[39mmul_(beta1)\u001b[38;5;241m.\u001b[39madd_(grad, alpha\u001b[38;5;241m=\u001b[39m(\u001b[38;5;241m1.0\u001b[39m \u001b[38;5;241m-\u001b[39m beta1))\n\u001b[0;32m--> 647\u001b[0m exp_avg_sq\u001b[38;5;241m.\u001b[39mmul_(beta2)\u001b[38;5;241m.\u001b[39maddcmul_(grad, grad, value\u001b[38;5;241m=\u001b[39m\u001b[38;5;241m1.0\u001b[39m \u001b[38;5;241m-\u001b[39m beta2)\n\u001b[1;32m    648\u001b[0m denom \u001b[38;5;241m=\u001b[39m exp_avg_sq\u001b[38;5;241m.\u001b[39msqrt()\u001b[38;5;241m.\u001b[39madd_(group[\u001b[38;5;124m\"\u001b[39m\u001b[38;5;124meps\u001b[39m\u001b[38;5;124m\"\u001b[39m])\n\u001b[1;32m    650\u001b[0m step_size \u001b[38;5;241m=\u001b[39m group[\u001b[38;5;124m\"\u001b[39m\u001b[38;5;124mlr\u001b[39m\u001b[38;5;124m\"\u001b[39m]\n",
      "\u001b[0;31mKeyboardInterrupt\u001b[0m: "
     ]
    }
   ],
   "source": [
    "from transformers import AdamW\n",
    "import torch\n",
    "from tqdm import tqdm\n",
    "from sklearn.metrics import f1_score\n",
    "\n",
    "N_EPOCHS = 5\n",
    "optim = AdamW(model.parameters(), lr=5e-5)\n",
    "\n",
    "model.to(device)\n",
    "\n",
    "for epoch in range(N_EPOCHS):\n",
    "    model.train()\n",
    "    total_loss = 0\n",
    "    correct_start = 0\n",
    "    correct_end = 0\n",
    "    total_samples = 0\n",
    "\n",
    "    # Store predictions and labels for F1 calculation\n",
    "    all_start_preds = []\n",
    "    all_start_trues = []\n",
    "    all_end_preds = []\n",
    "    all_end_trues = []\n",
    "\n",
    "    loop = tqdm(train_loader, leave=True)\n",
    "    for batch in loop:\n",
    "        optim.zero_grad()\n",
    "        input_ids = batch['input_ids'].to(device)\n",
    "        attention_mask = batch['attention_mask'].to(device)\n",
    "        start_positions = batch['start_positions'].to(device)\n",
    "        end_positions = batch['end_positions'].to(device)\n",
    "\n",
    "        # Forward pass with loss calculation\n",
    "        outputs = model(input_ids, attention_mask=attention_mask, start_positions=start_positions, end_positions=end_positions)\n",
    "        loss = outputs[0]\n",
    "        loss.backward()\n",
    "        optim.step()\n",
    "\n",
    "        # Accumulate loss\n",
    "        total_loss += loss.item()\n",
    "\n",
    "        # Get predicted start and end positions\n",
    "        start_pred = torch.argmax(outputs[1], dim=1)\n",
    "        end_pred = torch.argmax(outputs[2], dim=1)\n",
    "\n",
    "        # Count correct predictions for start and end positions\n",
    "        correct_start += (start_pred == start_positions).sum().item()\n",
    "        correct_end += (end_pred == end_positions).sum().item()\n",
    "        total_samples += len(start_positions)\n",
    "\n",
    "        # Append predictions and true labels for F1 calculation\n",
    "        all_start_preds.extend(start_pred.cpu().numpy())\n",
    "        all_start_trues.extend(start_positions.cpu().numpy())\n",
    "        all_end_preds.extend(end_pred.cpu().numpy())\n",
    "        all_end_trues.extend(end_positions.cpu().numpy())\n",
    "\n",
    "        # Update progress bar\n",
    "        loop.set_description(f'Epoch {epoch+1}')\n",
    "        loop.set_postfix(loss=loss.item())\n",
    "\n",
    "    # Calculate training accuracy for this epoch\n",
    "    accuracy = (correct_start + correct_end) / (2 * total_samples)\n",
    "    avg_loss = total_loss / len(train_loader)\n",
    "\n",
    "    # Calculate F1 scores for start and end predictions\n",
    "    start_f1 = f1_score(all_start_trues, all_start_preds, average='macro')\n",
    "    end_f1 = f1_score(all_end_trues, all_end_preds, average='macro')\n",
    "    overall_f1 = (start_f1 + end_f1) / 2\n",
    "\n",
    "    print(f'Epoch {epoch+1} - Loss: {avg_loss:.4f}, Accuracy: {accuracy:.4f}, Start F1: {start_f1:.4f}, End F1: {end_f1:.4f}, Overall F1: {overall_f1:.4f}')\n"
   ]
  },
  {
   "cell_type": "code",
   "execution_count": 81,
   "id": "12b8466b-3a6e-4073-bc4b-e2295d225c3f",
   "metadata": {
    "tags": []
   },
   "outputs": [
    {
     "name": "stderr",
     "output_type": "stream",
     "text": [
      "  2%|▏         | 24/993 [00:02<01:42,  9.49it/s]\n"
     ]
    },
    {
     "ename": "KeyboardInterrupt",
     "evalue": "",
     "output_type": "error",
     "traceback": [
      "\u001b[0;31m---------------------------------------------------------------------------\u001b[0m",
      "\u001b[0;31mKeyboardInterrupt\u001b[0m                         Traceback (most recent call last)",
      "Cell \u001b[0;32mIn[81], line 22\u001b[0m\n\u001b[1;32m     19\u001b[0m end_pred \u001b[38;5;241m=\u001b[39m torch\u001b[38;5;241m.\u001b[39margmax(outputs[\u001b[38;5;124m'\u001b[39m\u001b[38;5;124mend_logits\u001b[39m\u001b[38;5;124m'\u001b[39m], dim\u001b[38;5;241m=\u001b[39m\u001b[38;5;241m1\u001b[39m)\n\u001b[1;32m     21\u001b[0m \u001b[38;5;66;03m# Calculate accuracy for both start and end predictions\u001b[39;00m\n\u001b[0;32m---> 22\u001b[0m start_acc \u001b[38;5;241m=\u001b[39m (start_pred \u001b[38;5;241m==\u001b[39m start_true)\u001b[38;5;241m.\u001b[39mfloat()\u001b[38;5;241m.\u001b[39mmean()\u001b[38;5;241m.\u001b[39mitem()\n\u001b[1;32m     23\u001b[0m end_acc \u001b[38;5;241m=\u001b[39m (end_pred \u001b[38;5;241m==\u001b[39m end_true)\u001b[38;5;241m.\u001b[39mfloat()\u001b[38;5;241m.\u001b[39mmean()\u001b[38;5;241m.\u001b[39mitem()\n\u001b[1;32m     25\u001b[0m \u001b[38;5;66;03m# Append both accuracies to the list\u001b[39;00m\n",
      "\u001b[0;31mKeyboardInterrupt\u001b[0m: "
     ]
    }
   ],
   "source": [
    "\n",
    "model.eval()\n",
    "accuracies = []\n",
    "\n",
    "# Iterate over validation batches\n",
    "for batch in tqdm(valid_loader):\n",
    "    # Disable gradient calculation for inference\n",
    "    with torch.no_grad():\n",
    "        # Move input tensors to the appropriate device\n",
    "        input_ids = batch['input_ids'].to(device)\n",
    "        attention_mask = batch['attention_mask'].to(device)\n",
    "        start_true = batch['start_positions'].to(device)\n",
    "        end_true = batch['end_positions'].to(device)\n",
    "\n",
    "        # Forward pass through the model\n",
    "        outputs = model(input_ids, attention_mask=attention_mask)\n",
    "\n",
    "        # Get the predicted start and end positions\n",
    "        start_pred = torch.argmax(outputs['start_logits'], dim=1)\n",
    "        end_pred = torch.argmax(outputs['end_logits'], dim=1)\n",
    "\n",
    "        # Calculate accuracy for both start and end predictions\n",
    "        start_acc = (start_pred == start_true).float().mean().item()\n",
    "        end_acc = (end_pred == end_true).float().mean().item()\n",
    "        \n",
    "        # Append both accuracies to the list\n",
    "        accuracies.append((start_acc + end_acc) / 2)"
   ]
  },
  {
   "cell_type": "code",
   "execution_count": 82,
   "id": "c2bdc34b-d30c-4b05-8b21-d4e4faeb57ed",
   "metadata": {
    "tags": []
   },
   "outputs": [
    {
     "name": "stderr",
     "output_type": "stream",
     "text": [
      "  2%|▏         | 19/993 [00:02<01:45,  9.24it/s]\n"
     ]
    },
    {
     "ename": "KeyboardInterrupt",
     "evalue": "",
     "output_type": "error",
     "traceback": [
      "\u001b[0;31m---------------------------------------------------------------------------\u001b[0m",
      "\u001b[0;31mKeyboardInterrupt\u001b[0m                         Traceback (most recent call last)",
      "Cell \u001b[0;32mIn[82], line 20\u001b[0m\n\u001b[1;32m     17\u001b[0m end_pred \u001b[38;5;241m=\u001b[39m torch\u001b[38;5;241m.\u001b[39margmax(outputs[\u001b[38;5;124m'\u001b[39m\u001b[38;5;124mend_logits\u001b[39m\u001b[38;5;124m'\u001b[39m], dim\u001b[38;5;241m=\u001b[39m\u001b[38;5;241m1\u001b[39m)\n\u001b[1;32m     19\u001b[0m \u001b[38;5;66;03m# Calculate accuracy\u001b[39;00m\n\u001b[0;32m---> 20\u001b[0m acc\u001b[38;5;241m.\u001b[39mappend(((start_pred \u001b[38;5;241m==\u001b[39m start_true)\u001b[38;5;241m.\u001b[39msum() \u001b[38;5;241m/\u001b[39m \u001b[38;5;28mlen\u001b[39m(start_pred))\u001b[38;5;241m.\u001b[39mitem())\n\u001b[1;32m     21\u001b[0m acc\u001b[38;5;241m.\u001b[39mappend(((end_pred \u001b[38;5;241m==\u001b[39m end_true)\u001b[38;5;241m.\u001b[39msum() \u001b[38;5;241m/\u001b[39m \u001b[38;5;28mlen\u001b[39m(end_pred))\u001b[38;5;241m.\u001b[39mitem())\n\u001b[1;32m     23\u001b[0m \u001b[38;5;66;03m# Calculate WER\u001b[39;00m\n",
      "\u001b[0;31mKeyboardInterrupt\u001b[0m: "
     ]
    }
   ],
   "source": [
    "import jiwer\n",
    "\n",
    "model.eval()\n",
    "acc = []\n",
    "wer = []\n",
    "\n",
    "for batch in tqdm(valid_loader):\n",
    "    with torch.no_grad():\n",
    "        input_ids = batch['input_ids'].to(device)\n",
    "        attention_mask = batch['attention_mask'].to(device)\n",
    "        start_true = batch['start_positions'].to(device)\n",
    "        end_true = batch['end_positions'].to(device)\n",
    "        \n",
    "        outputs = model(input_ids, attention_mask=attention_mask)\n",
    "        \n",
    "        start_pred = torch.argmax(outputs['start_logits'], dim=1)\n",
    "        end_pred = torch.argmax(outputs['end_logits'], dim=1)\n",
    "        \n",
    "        # Calculate accuracy\n",
    "        acc.append(((start_pred == start_true).sum() / len(start_pred)).item())\n",
    "        acc.append(((end_pred == end_true).sum() / len(end_pred)).item())\n",
    "        \n",
    "        # Calculate WER\n",
    "        for i in range(len(start_true)):\n",
    "            true_text = tokenizer.decode(input_ids[i][start_true[i]:end_true[i]])\n",
    "            pred_text = tokenizer.decode(input_ids[i][start_pred[i]:end_pred[i]])\n",
    "            if true_text.strip() == \"\":\n",
    "                continue\n",
    "            wer.append(jiwer.wer(true_text, pred_text))       \n",
    "acc = sum(acc) / len(acc)\n",
    "wer = sum(wer) / len(wer)\n",
    "print(f'WER: {wer:.4f}')\n"
   ]
  },
  {
   "cell_type": "code",
   "execution_count": 83,
   "id": "a6e6daa1-77e7-44b1-a1a0-1bd1eba85ba2",
   "metadata": {
    "tags": []
   },
   "outputs": [],
   "source": [
    "def get_prediction(context, question):\n",
    "  inputs = tokenizer.encode_plus(question, context, return_tensors='pt').to(device)\n",
    "  outputs = model(**inputs)\n",
    "  answer_start = torch.argmax(outputs[0])  \n",
    "  answer_end = torch.argmax(outputs[1]) + 1 \n",
    "  answer = tokenizer.convert_tokens_to_string(tokenizer.convert_ids_to_tokens(inputs['input_ids'][0][answer_start:answer_end]))\n",
    "  return answer\n",
    "\n",
    "def normalize_text(s):\n",
    "  import string, re\n",
    "  def remove_articles(text):\n",
    "    regex = re.compile(r\"\\b(a|an|the)\\b\", re.UNICODE)\n",
    "    return re.sub(regex, \" \", text)\n",
    "  def white_space_fix(text):\n",
    "    return \" \".join(text.split())\n",
    "  def remove_punc(text):\n",
    "    exclude = set(string.punctuation)\n",
    "    return \"\".join(ch for ch in text if ch not in exclude)\n",
    "  def lower(text):\n",
    "    return text.lower()\n",
    "\n",
    "  return white_space_fix(remove_articles(remove_punc(lower(s))))\n",
    "\n",
    "def exact_match(prediction, truth):\n",
    "    return bool(normalize_text(prediction) == normalize_text(truth))\n",
    "\n",
    "def compute_f1(prediction, truth):\n",
    "  pred_tokens = normalize_text(prediction).split()\n",
    "  truth_tokens = normalize_text(truth).split()\n",
    "  \n",
    "  # if either the prediction or the truth is no-answer then f1 = 1 if they agree, 0 otherwise\n",
    "  if len(pred_tokens) == 0 or len(truth_tokens) == 0:\n",
    "    return int(pred_tokens == truth_tokens)\n",
    "  \n",
    "  common_tokens = set(pred_tokens) & set(truth_tokens)\n",
    "  \n",
    "  # if there are no common tokens then f1 = 0\n",
    "  if len(common_tokens) == 0:\n",
    "    return 0\n",
    "  \n",
    "  prec = len(common_tokens) / len(pred_tokens)\n",
    "  rec = len(common_tokens) / len(truth_tokens)\n",
    "  return round(2*(prec*rec) / (prec + rec), 2)\n",
    "  \n",
    "def question_answer(context, question,answer):\n",
    "  prediction = get_prediction(context,question)\n",
    "  em_score = exact_match(prediction, answer)\n",
    "  f1_score = compute_f1(prediction, answer)\n",
    "\n",
    "def get_prediction(text, question):\n",
    "  inputs = tokenizer.encode_plus(question, text, return_tensors='pt',max_length=512, truncation=True).to(device)\n",
    "\n",
    "  outputs = model(**inputs)\n",
    "  answer_start = torch.argmax(outputs[0])\n",
    "  answer_end = torch.argmax(outputs[1]) + 1 \n",
    "\n",
    "  answer = tokenizer.convert_tokens_to_string(tokenizer.convert_ids_to_tokens(inputs['input_ids'][0][answer_start:answer_end]))\n",
    "  return answer\n",
    "def prediction(contents,model):\n",
    "  predAnswers={}\n",
    "  for data in contents['data']:\n",
    "    for txt in data['paragraphs']: \n",
    "      text = txt['context']\n",
    "      for qa in txt['qas']:\n",
    "        qid = qa['id']\n",
    "        question = qa['question']\n",
    "        predAnswers[qid]=get_prediction(text,question)\n",
    "  return predAnswers\n",
    "\n",
    "with open(\"spoken_test-v1.1_WER44.json\", 'r') as j:\n",
    "     valContents = json.loads(j.read())\n",
    "     predAnswers=prediction(valContents,model)\n",
    "\n",
    "with open('results.txt', 'w') as convert_file:\n",
    "     convert_file.write(json.dumps(predAnswers))"
   ]
  },
  {
   "cell_type": "code",
   "execution_count": 84,
   "id": "c61663b3",
   "metadata": {
    "tags": []
   },
   "outputs": [],
   "source": [
    "import re\n",
    "import string\n",
    "def normalize_answer(s):   \n",
    "    def lower(text):\n",
    "        return text.lower()\n",
    "    def remove_punctuation(text):\n",
    "        return \"\".join(ch for ch in text if ch not in string.punctuation)\n",
    "    def remove_articles(text):\n",
    "        return re.sub(r\"\\b(a|an|the)\\b\", \" \", text)\n",
    "    def white_space_fix(text):\n",
    "        return \" \".join(text.split())\n",
    "    return white_space_fix(remove_articles(remove_punctuation(lower(s))))\n",
    "def compute_wer(ground_truth, predicted):\n",
    "    ground_truth_words = ground_truth.split()\n",
    "    predicted_words = predicted.split()\n",
    "    matrix = [[j for j in range(len(predicted_words) + 1)]]\n",
    "    matrix += [[i] + [0] * len(predicted_words) for i in range(1, len(ground_truth_words) + 1)]\n",
    "    for i in range(1, len(ground_truth_words) + 1):\n",
    "        for j in range(1, len(predicted_words) + 1):\n",
    "            if ground_truth_words[i - 1] == predicted_words[j - 1]:\n",
    "                matrix[i][j] = matrix[i - 1][j - 1]\n",
    "            else:\n",
    "                substitution = matrix[i - 1][j - 1] + 1\n",
    "                insertion = matrix[i][j - 1] + 1\n",
    "                deletion = matrix[i - 1][j] + 1\n",
    "                matrix[i][j] = min(substitution, insertion, deletion)\n",
    "    return matrix[-1][-1] / len(ground_truth_words)\n",
    "\n"
   ]
  },
  {
   "cell_type": "code",
   "execution_count": null,
   "id": "521d0892-88df-4c13-b4a4-81e4b056acc2",
   "metadata": {
    "tags": []
   },
   "outputs": [],
   "source": [
    "with open(\"spoken_test-v1.1_WER44.json\", 'r') as j:\n",
    "    valContents = json.loads(j.read())\n",
    "    predAnswers = prediction(valContents, model)\n",
    "\n",
    "totalWER = 0\n",
    "numQuestions = 0\n",
    "\n",
    "for qid, predAnswer in predAnswers.items():\n",
    "    for data in valContents['data']:\n",
    "        for txt in data['paragraphs']:\n",
    "            for qa in txt['qas']:\n",
    "                if qa['id'] == qid:\n",
    "                    groundTruth = qa['answers'][0]['text']\n",
    "                    wer = compute_wer(groundTruth, predAnswer)\n",
    "                    totalWER += wer\n",
    "                    numQuestions += 1\n",
    "                    break\n",
    "            else:\n",
    "                continue\n",
    "            break\n",
    "        else:\n",
    "            continue\n",
    "        break\n",
    "\n",
    "cWER = totalWER / numQuestions\n",
    "print(f\"WER: {cWER}\")\n"
   ]
  },
  {
   "cell_type": "code",
   "execution_count": null,
   "id": "efb51b76-7b0e-4ea2-b8b8-d26e71613280",
   "metadata": {
    "tags": []
   },
   "outputs": [],
   "source": [
    "with open(\"spoken_test-v1.1_WER54.json\", 'r') as j:\n",
    "    valContents = json.loads(j.read())\n",
    "    predAnswers = prediction(valContents, model)\n",
    "totalWER = 0\n",
    "numQuestions = 0\n",
    "for qid, predAnswer in predAnswers.items():\n",
    "    for data in valContents['data']:\n",
    "        for txt in data['paragraphs']:\n",
    "            for qa in txt['qas']:\n",
    "                if qa['id'] == qid:\n",
    "                    groundTruth = qa['answers'][0]['text']\n",
    "                    wer = compute_wer(groundTruth, predAnswer)\n",
    "                    totalWER += wer\n",
    "                    numQuestions += 1\n",
    "                    break\n",
    "            else:\n",
    "                continue\n",
    "            break\n",
    "        else:\n",
    "            continue\n",
    "        break\n",
    "\n",
    "cWER = totalWER / numQuestions\n",
    "print(f\"WER: {cWER}\")\n"
   ]
  },
  {
   "cell_type": "code",
   "execution_count": null,
   "id": "487b1f19-db43-4b10-ab99-b0420b3b41c0",
   "metadata": {},
   "outputs": [],
   "source": []
  }
 ],
 "metadata": {
  "kernelspec": {
   "display_name": "Python 3 (ipykernel)",
   "language": "python",
   "name": "python3"
  },
  "language_info": {
   "codemirror_mode": {
    "name": "ipython",
    "version": 3
   },
   "file_extension": ".py",
   "mimetype": "text/x-python",
   "name": "python",
   "nbconvert_exporter": "python",
   "pygments_lexer": "ipython3",
   "version": "3.11.5"
  }
 },
 "nbformat": 4,
 "nbformat_minor": 5
}
